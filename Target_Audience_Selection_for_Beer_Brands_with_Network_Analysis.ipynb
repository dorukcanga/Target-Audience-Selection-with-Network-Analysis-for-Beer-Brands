{
  "nbformat": 4,
  "nbformat_minor": 0,
  "metadata": {
    "accelerator": "GPU",
    "colab": {
      "name": "Target Audience Selection for Beer Brands with Network Analysis.ipynb",
      "provenance": [],
      "collapsed_sections": []
    },
    "kernelspec": {
      "display_name": "Python 3",
      "language": "python",
      "name": "python3"
    },
    "language_info": {
      "codemirror_mode": {
        "name": "ipython",
        "version": 3
      },
      "file_extension": ".py",
      "mimetype": "text/x-python",
      "name": "python",
      "nbconvert_exporter": "python",
      "pygments_lexer": "ipython3",
      "version": "3.6.8"
    }
  },
  "cells": [
    {
      "cell_type": "code",
      "metadata": {
        "colab_type": "code",
        "id": "Qnb6INjk_Gog",
        "colab": {}
      },
      "source": [
        "import pandas as pd\n",
        "import numpy as np\n",
        "import matplotlib.pyplot as plt\n",
        "import seaborn as sns\n",
        "import networkx as nx\n",
        "from networkx.algorithms import bipartite\n",
        "import time\n",
        "from collections import Counter\n",
        "import community\n",
        "import operator\n",
        "from networkx.algorithms.community import greedy_modularity_communities, k_clique_communities\n",
        "from node2vec import Node2Vec\n",
        "from scipy import spatial\n",
        "plt.style.use(['dark_background'])\n",
        "import warnings\n",
        "warnings.filterwarnings(\"ignore\")\n",
        "import random"
      ],
      "execution_count": 0,
      "outputs": []
    },
    {
      "cell_type": "markdown",
      "metadata": {
        "colab_type": "text",
        "id": "d61gWAhg_Gop"
      },
      "source": [
        "### Read Data"
      ]
    },
    {
      "cell_type": "code",
      "metadata": {
        "colab_type": "code",
        "id": "xDg2lgEa_Gos",
        "colab": {}
      },
      "source": [
        "coreData = pd.read_csv(\".../beerdatafullcondensed.csv\", sep = \"|\")\n",
        "coreData[\"ReviewProfileName\"]=coreData[\"ReviewProfileName\"].str.strip()\n",
        "coreData[\"beerName\"]=coreData[\"beerName\"].str.strip().str.replace('\"',\"\")\n",
        "coreData[\"beerStyle\"]=coreData[\"beerStyle\"].str.strip()"
      ],
      "execution_count": 0,
      "outputs": []
    },
    {
      "cell_type": "markdown",
      "metadata": {
        "colab_type": "text",
        "id": "Jwcnby2A_Gox"
      },
      "source": [
        "Convert epoch dates to full data, year and month columns"
      ]
    },
    {
      "cell_type": "code",
      "metadata": {
        "colab_type": "code",
        "id": "lw4z0VNT_Goz",
        "colab": {}
      },
      "source": [
        "coreData[\"RTadjusted\"] = coreData[\"ReviewTime\"].\\\n",
        "                    apply(lambda x: time.strftime(\"%d/%m/%Y\", time.gmtime(x)))\n",
        "\n",
        "coreData[\"RTyear\"] = coreData[\"ReviewTime\"].\\\n",
        "                    apply(lambda x: time.strftime(\"%Y\", time.gmtime(x))).astype(\"int\")\n",
        "\n",
        "coreData[\"RTmonth\"] = coreData[\"ReviewTime\"].\\\n",
        "                    apply(lambda x: time.strftime(\"%m\", time.gmtime(x))).astype(\"int\")"
      ],
      "execution_count": 0,
      "outputs": []
    },
    {
      "cell_type": "code",
      "metadata": {
        "colab_type": "code",
        "id": "p4r-hGnq_Go5",
        "outputId": "9445d39f-880e-4862-fab0-e48ec1ee2e6e",
        "colab": {
          "base_uri": "https://localhost:8080/",
          "height": 261
        }
      },
      "source": [
        "print(\"Before Filtering\")\n",
        "print(\"Number of BeerIds:\",coreData.groupby(\"beerId\").count().shape[0])\n",
        "print(\"Number of Reviews:\",coreData.shape[0])\n",
        "print(\"Number of Reviewers:\",len(coreData[\"ReviewProfileName\"].unique()))\n",
        "print(\"Average Number of Reviews per BeerId:\",int((coreData.groupby(\"beerId\").count().loc[:,\"ReviewProfileName\"]).mean()))\n",
        "print(\"Mean Rating:\",round(coreData.groupby(\"beerId\").mean().loc[:,\"ReviewOverall\"].mean(),2))\n",
        "coreData.head(2)"
      ],
      "execution_count": 0,
      "outputs": [
        {
          "output_type": "stream",
          "text": [
            "Before Filtering\n",
            "Number of BeerIds: 66055\n",
            "Number of Reviews: 1586614\n",
            "Number of Reviewers: 33388\n",
            "Average Number of Reviews per BeerId: 24\n",
            "Mean Rating: 3.66\n"
          ],
          "name": "stdout"
        },
        {
          "output_type": "execute_result",
          "data": {
            "text/html": [
              "<div>\n",
              "<style scoped>\n",
              "    .dataframe tbody tr th:only-of-type {\n",
              "        vertical-align: middle;\n",
              "    }\n",
              "\n",
              "    .dataframe tbody tr th {\n",
              "        vertical-align: top;\n",
              "    }\n",
              "\n",
              "    .dataframe thead th {\n",
              "        text-align: right;\n",
              "    }\n",
              "</style>\n",
              "<table border=\"1\" class=\"dataframe\">\n",
              "  <thead>\n",
              "    <tr style=\"text-align: right;\">\n",
              "      <th></th>\n",
              "      <th>beerName</th>\n",
              "      <th>beerId</th>\n",
              "      <th>brewerId</th>\n",
              "      <th>beerABV</th>\n",
              "      <th>beerStyle</th>\n",
              "      <th>ReviewAppearance</th>\n",
              "      <th>ReviewAroma</th>\n",
              "      <th>ReviewPalate</th>\n",
              "      <th>ReviewTaste</th>\n",
              "      <th>ReviewOverall</th>\n",
              "      <th>ReviewTime</th>\n",
              "      <th>ReviewProfileName</th>\n",
              "      <th>RTadjusted</th>\n",
              "      <th>RTyear</th>\n",
              "      <th>RTmonth</th>\n",
              "    </tr>\n",
              "  </thead>\n",
              "  <tbody>\n",
              "    <tr>\n",
              "      <th>0</th>\n",
              "      <td>Sausa Weizen</td>\n",
              "      <td>47986</td>\n",
              "      <td>10325</td>\n",
              "      <td>5.00</td>\n",
              "      <td>Hefeweizen</td>\n",
              "      <td>2.5</td>\n",
              "      <td>2.0</td>\n",
              "      <td>1.5</td>\n",
              "      <td>1.5</td>\n",
              "      <td>1.5</td>\n",
              "      <td>1234817823</td>\n",
              "      <td>stcules</td>\n",
              "      <td>16/02/2009</td>\n",
              "      <td>2009</td>\n",
              "      <td>2</td>\n",
              "    </tr>\n",
              "    <tr>\n",
              "      <th>1</th>\n",
              "      <td>Red Moon</td>\n",
              "      <td>48213</td>\n",
              "      <td>10325</td>\n",
              "      <td>6.20</td>\n",
              "      <td>English Strong Ale</td>\n",
              "      <td>3.0</td>\n",
              "      <td>2.5</td>\n",
              "      <td>3.0</td>\n",
              "      <td>3.0</td>\n",
              "      <td>3.0</td>\n",
              "      <td>1235915097</td>\n",
              "      <td>stcules</td>\n",
              "      <td>01/03/2009</td>\n",
              "      <td>2009</td>\n",
              "      <td>3</td>\n",
              "    </tr>\n",
              "  </tbody>\n",
              "</table>\n",
              "</div>"
            ],
            "text/plain": [
              "       beerName  beerId  brewerId  ...  RTadjusted RTyear  RTmonth\n",
              "0  Sausa Weizen   47986     10325  ...  16/02/2009   2009        2\n",
              "1      Red Moon   48213     10325  ...  01/03/2009   2009        3\n",
              "\n",
              "[2 rows x 15 columns]"
            ]
          },
          "metadata": {
            "tags": []
          },
          "execution_count": 7
        }
      ]
    },
    {
      "cell_type": "markdown",
      "metadata": {
        "colab_type": "text",
        "id": "lJNgam03P6Yg"
      },
      "source": [
        "### Remove Spams\n",
        "\n",
        "Remove the reviewers which reviewed beers above a threshold (spam)"
      ]
    },
    {
      "cell_type": "code",
      "metadata": {
        "colab_type": "code",
        "id": "P-C81JfM_GpK",
        "outputId": "1372ae88-5da1-4802-a038-8777be34b88e",
        "colab": {
          "base_uri": "https://localhost:8080/",
          "height": 118
        }
      },
      "source": [
        "percentage = 0.01\n",
        "spamThr = int(percentage*coreData.groupby(\"beerId\").count().shape[0])\n",
        "spamfilter = coreData.groupby(\"ReviewProfileName\").count().sort_values(by=\"beerId\", ascending=False)\n",
        "spamfilter = spamfilter[spamfilter[\"beerId\"]<=spamThr]\n",
        "coreData = coreData[coreData[\"ReviewProfileName\"].isin(spamfilter.index)==True]\n",
        "print(\"Threshold:\",spamThr)\n",
        "print(\"Number of BeerIds:\",coreData.groupby(\"beerId\").count().shape[0])\n",
        "print(\"Number of Reviews:\",coreData.shape[0])\n",
        "print(\"Number of Reviewers:\",len(coreData[\"ReviewProfileName\"].unique()))\n",
        "print(\"Average Number of Reviews per BeerId:\",int((coreData.groupby(\"beerId\").count().loc[:,\"ReviewProfileName\"]).mean()))\n",
        "print(\"Mean Rating:\",round(coreData.groupby(\"beerId\").mean().loc[:,\"ReviewOverall\"].mean(),2))"
      ],
      "execution_count": 0,
      "outputs": [
        {
          "output_type": "stream",
          "text": [
            "Threshold: 660\n",
            "Number of BeerIds: 45206\n",
            "Number of Reviews: 966641\n",
            "Number of Reviewers: 32877\n",
            "Average Number of Reviews per BeerId: 21\n",
            "Mean Rating: 3.7\n"
          ],
          "name": "stdout"
        }
      ]
    },
    {
      "cell_type": "markdown",
      "metadata": {
        "colab_type": "text",
        "id": "VzPPIpNVP98I"
      },
      "source": [
        "### Remove Empty Lines\n",
        "\n",
        "Remove Lines which ReviewProfileName is empty"
      ]
    },
    {
      "cell_type": "code",
      "metadata": {
        "colab_type": "code",
        "id": "7vbEx5q0_GpR",
        "outputId": "6a35425d-7b78-4f72-8530-571c4134f680",
        "colab": {
          "base_uri": "https://localhost:8080/",
          "height": 101
        }
      },
      "source": [
        "coreData = coreData[coreData[\"ReviewProfileName\"]!=\"\"]\n",
        "print(\"Number of BeerIds:\",coreData.groupby(\"beerId\").count().shape[0])\n",
        "print(\"Number of Reviews:\",coreData.shape[0])\n",
        "print(\"Number of Reviewers:\",len(coreData[\"ReviewProfileName\"].unique()))\n",
        "print(\"Average Number of Reviews per BeerId:\",int((coreData.groupby(\"beerId\").count().loc[:,\"ReviewProfileName\"]).mean()))\n",
        "print(\"Mean Rating:\",round(coreData.groupby(\"beerId\").mean().loc[:,\"ReviewOverall\"].mean(),2))"
      ],
      "execution_count": 0,
      "outputs": [
        {
          "output_type": "stream",
          "text": [
            "Number of BeerIds: 45198\n",
            "Number of Reviews: 966293\n",
            "Number of Reviewers: 32876\n",
            "Average Number of Reviews per BeerId: 21\n",
            "Mean Rating: 3.7\n"
          ],
          "name": "stdout"
        }
      ]
    },
    {
      "cell_type": "markdown",
      "metadata": {
        "colab_type": "text",
        "id": "mJxTT64i_GpZ"
      },
      "source": [
        "### Graphs for further filtering"
      ]
    },
    {
      "cell_type": "code",
      "metadata": {
        "colab_type": "code",
        "id": "7m1vIMja_Gpa",
        "outputId": "66bde7f4-45cf-474b-87f4-61881fa7f1ff",
        "colab": {
          "base_uri": "https://localhost:8080/",
          "height": 434
        }
      },
      "source": [
        "print(\"Number of BeerIds:\",coreData.groupby(\"beerId\").count().shape[0])\n",
        "print(\"Number of Reviews:\",coreData.shape[0])\n",
        "print(\"Number of Reviewers:\",len(coreData[\"ReviewProfileName\"].unique()))\n",
        "print(\"Average Number of Reviews per BeerId:\",int((coreData.groupby(\"beerId\").count().loc[:,\"ReviewProfileName\"]).mean()))\n",
        "print(\"Mean Rating:\",round(coreData.groupby(\"beerId\").mean().loc[:,\"ReviewOverall\"].mean(),2))\n",
        "\n",
        "plt.figure(figsize=(15,5))\n",
        "plt.subplot(131)\n",
        "plt.hist(coreData[\"ReviewOverall\"],bins=list(np.arange(0,5,0.5)))\n",
        "plt.xlabel(\"Overall Rating\")\n",
        "plt.ylabel(\"Frequency\")\n",
        "plt.title(\"Overall Rating Distribution\")\n",
        "\n",
        "plt.subplot(132)\n",
        "plt.scatter(coreData.groupby(\"beerId\").mean().loc[:,\"ReviewOverall\"],\n",
        "            coreData.groupby(\"beerId\").count().loc[:,\"ReviewOverall\"])\n",
        "plt.xlabel(\"Average Rating per Beer\")\n",
        "plt.ylabel(\"Frequency\")\n",
        "plt.title(\"Overall Rating Distribution\")\n",
        "\n",
        "plt.subplot(133)\n",
        "plt.scatter(coreData.groupby(\"ReviewProfileName\").mean().loc[:,\"ReviewOverall\"],\n",
        "            coreData.groupby(\"ReviewProfileName\").count().loc[:,\"ReviewOverall\"])\n",
        "plt.xlabel(\"Average Rating per Reviewer\")\n",
        "plt.ylabel(\"Frequency\")\n",
        "plt.title(\"Overall Rating Distribution\")\n",
        "plt.show()\n"
      ],
      "execution_count": 0,
      "outputs": [
        {
          "output_type": "stream",
          "text": [
            "Number of BeerIds: 45198\n",
            "Number of Reviews: 966293\n",
            "Number of Reviewers: 32876\n",
            "Average Number of Reviews per BeerId: 21\n",
            "Mean Rating: 3.7\n"
          ],
          "name": "stdout"
        },
        {
          "output_type": "display_data",
          "data": {
            "image/png": "[encoded data removed]",
            "text/plain": [
              "<Figure size 1080x360 with 3 Axes>"
            ]
          },
          "metadata": {
            "tags": []
          }
        }
      ]
    },
    {
      "cell_type": "code",
      "metadata": {
        "colab_type": "code",
        "id": "E0fFP9cH_Gpi",
        "outputId": "cd7370fd-ed82-44a3-a500-2be4bc22b218",
        "colab": {
          "base_uri": "https://localhost:8080/",
          "height": 350
        }
      },
      "source": [
        "plt.figure(figsize=(10,5))\n",
        "plt.subplot(121)\n",
        "plt.bar(coreData.groupby(\"RTyear\").count().index,coreData.groupby(\"RTyear\").count()[\"beerId\"])\n",
        "plt.xlabel(\"Year\")\n",
        "plt.ylabel(\"Frequency\")\n",
        "plt.title(\"Reviews Per Year\")\n",
        "\n",
        "plt.subplot(122)\n",
        "plt.scatter(coreData.groupby(\"RTyear\").count().index,coreData.groupby(\"RTyear\").mean()[\"ReviewOverall\"])\n",
        "\n",
        "plt.show()"
      ],
      "execution_count": 0,
      "outputs": [
        {
          "output_type": "display_data",
          "data": {
            "image/png": "[encoded data removed]",
            "text/plain": [
              "<Figure size 720x360 with 2 Axes>"
            ]
          },
          "metadata": {
            "tags": []
          }
        }
      ]
    },
    {
      "cell_type": "markdown",
      "metadata": {
        "colab_type": "text",
        "id": "aTIZ9TZ5QDVn"
      },
      "source": [
        "### Remove reviews before 2002\n",
        "\n",
        "Remove the Reviews before 2002 due to unbalanced ratings and limited number"
      ]
    },
    {
      "cell_type": "code",
      "metadata": {
        "colab_type": "code",
        "id": "k0ZkydvX_Gpr",
        "colab": {}
      },
      "source": [
        "yearThr = 2002\n",
        "yearfilter = coreData.groupby(\"RTyear\").count().sort_values(by=\"beerId\", ascending=False)\n",
        "yearfilter = yearfilter[yearfilter.index>=yearThr]\n",
        "coreData = coreData[coreData[\"RTyear\"].isin(yearfilter.index)==True]"
      ],
      "execution_count": 0,
      "outputs": []
    },
    {
      "cell_type": "code",
      "metadata": {
        "colab_type": "code",
        "id": "2ficyEHk_Gpv",
        "outputId": "65895b08-2f46-4e0d-aa76-40e39f1b3829",
        "colab": {
          "base_uri": "https://localhost:8080/",
          "height": 450
        }
      },
      "source": [
        "print(\"Threshold:\",yearThr)\n",
        "print(\"Number of BeerIds:\",coreData.groupby(\"beerId\").count().shape[0])\n",
        "print(\"Number of Reviews:\",coreData.shape[0])\n",
        "print(\"Number of Reviewers:\",len(coreData[\"ReviewProfileName\"].unique()))\n",
        "print(\"Average Number of Reviews per BeerId:\",int((coreData.groupby(\"beerId\").count().loc[:,\"ReviewProfileName\"]).mean()))\n",
        "print(\"Mean Rating:\",round(coreData.groupby(\"beerId\").mean().loc[:,\"ReviewOverall\"].mean(),2))\n",
        "plt.figure(figsize=(10,5))\n",
        "plt.subplot(121)\n",
        "plt.bar(coreData.groupby(\"RTyear\").count().index,coreData.groupby(\"RTyear\").count()[\"beerId\"])\n",
        "plt.xlabel(\"Year\")\n",
        "plt.ylabel(\"Frequency\")\n",
        "plt.title(\"Reviews Per Year\")\n",
        "\n",
        "plt.subplot(122)\n",
        "plt.scatter(coreData.groupby(\"RTyear\").count().index,coreData.groupby(\"RTyear\").mean()[\"ReviewOverall\"])\n",
        "\n",
        "plt.show()"
      ],
      "execution_count": 0,
      "outputs": [
        {
          "output_type": "stream",
          "text": [
            "Threshold: 2002\n",
            "Number of BeerIds: 45183\n",
            "Number of Reviews: 965374\n",
            "Number of Reviewers: 32863\n",
            "Average Number of Reviews per BeerId: 21\n",
            "Mean Rating: 3.7\n"
          ],
          "name": "stdout"
        },
        {
          "output_type": "display_data",
          "data": {
            "image/png": "[encoded data removed]",
            "text/plain": [
              "<Figure size 720x360 with 2 Axes>"
            ]
          },
          "metadata": {
            "tags": []
          }
        }
      ]
    },
    {
      "cell_type": "markdown",
      "metadata": {
        "colab_type": "text",
        "id": "Qfq7tM8e_Gp1"
      },
      "source": [
        "### Remove Beers with few reviews\n",
        "\n",
        "Remove the beerIds which the total number of reviews is less than 30"
      ]
    },
    {
      "cell_type": "code",
      "metadata": {
        "colab_type": "code",
        "id": "V8Fn0QWVB1yd",
        "outputId": "91d1e218-62b2-4e95-cd85-5c3c6b52602b",
        "colab": {
          "base_uri": "https://localhost:8080/",
          "height": 353
        }
      },
      "source": [
        "plt.figure(figsize=(10,5))\n",
        "plt.subplot(121)\n",
        "plt.plot(coreData[\"beerId\"].value_counts().value_counts()),\n",
        "plt.xlabel(\"Number of Reviews\")\n",
        "plt.ylabel(\"Number of Beers\")\n",
        "plt.title(\"Beer Review Distribution\")\n",
        "\n",
        "plt.subplot(122)\n",
        "plt.loglog(coreData[\"beerId\"].value_counts().value_counts()),\n",
        "plt.xlabel(\"Number of Reviews\")\n",
        "plt.ylabel(\"Number of Beers\")\n",
        "plt.title(\"Beer Review Distribution (log plot)\")\n",
        "plt.show()"
      ],
      "execution_count": 0,
      "outputs": [
        {
          "output_type": "display_data",
          "data": {
            "image/png": "[encoded data removed]",
            "text/plain": [
              "<Figure size 720x360 with 2 Axes>"
            ]
          },
          "metadata": {
            "tags": []
          }
        }
      ]
    },
    {
      "cell_type": "code",
      "metadata": {
        "colab_type": "code",
        "id": "GV7xunBK_Gp3",
        "outputId": "da2445bb-8705-4c0e-8e14-19945c71dd68",
        "colab": {
          "base_uri": "https://localhost:8080/",
          "height": 118
        }
      },
      "source": [
        "filteroneThr=100 # BeerIds with less than 10 reviews to be eliminated\n",
        "filterone = coreData.groupby(\"beerId\").count()\n",
        "filterone = filterone[filterone[\"ReviewProfileName\"]>=filteroneThr]\n",
        "coreData = coreData[coreData[\"beerId\"].isin(filterone.index)==True]\n",
        "print(\"Threshold:\",filteroneThr)\n",
        "print(\"Number of BeerIds:\",coreData.groupby(\"beerId\").count().shape[0])\n",
        "print(\"Number of Reviews:\",coreData.shape[0])\n",
        "print(\"Number of Reviewers:\",len(coreData[\"ReviewProfileName\"].unique()))\n",
        "print(\"Average Number of Reviews per BeerId:\",int((coreData.groupby(\"beerId\").count().loc[:,\"ReviewProfileName\"]).mean()))\n",
        "print(\"Mean Rating:\",round(coreData.groupby(\"beerId\").mean().loc[:,\"ReviewOverall\"].mean(),2))"
      ],
      "execution_count": 0,
      "outputs": [
        {
          "output_type": "stream",
          "text": [
            "Threshold: 100\n",
            "Number of BeerIds: 1949\n",
            "Number of Reviews: 656466\n",
            "Number of Reviewers: 28217\n",
            "Average Number of Reviews per BeerId: 336\n",
            "Mean Rating: 3.83\n"
          ],
          "name": "stdout"
        }
      ]
    },
    {
      "cell_type": "markdown",
      "metadata": {
        "colab_type": "text",
        "id": "ZZvTtEpN7P1k"
      },
      "source": [
        "### Remove Reviewers with few reviews\n",
        "\n",
        "Remove the reviewers which has less than 10 reviews"
      ]
    },
    {
      "cell_type": "code",
      "metadata": {
        "colab_type": "code",
        "id": "2aLV5ztVlGcQ",
        "outputId": "5ebf7225-bb01-415c-99a9-bad1f1f19c46",
        "colab": {
          "base_uri": "https://localhost:8080/",
          "height": 353
        }
      },
      "source": [
        "plt.figure(figsize=(10,5))\n",
        "plt.subplot(121)\n",
        "plt.plot(coreData[\"ReviewProfileName\"].value_counts().value_counts())\n",
        "plt.xlabel(\"Number of Reviews\")\n",
        "plt.ylabel(\"Number of Users\")\n",
        "plt.title(\"User Review Distribution\")\n",
        "\n",
        "plt.subplot(122)\n",
        "plt.loglog(coreData[\"ReviewProfileName\"].value_counts().value_counts())\n",
        "plt.xlabel(\"Number of Reviews\")\n",
        "plt.ylabel(\"Number of Users\")\n",
        "plt.title(\"User Review Distribution (log plot)\")\n",
        "plt.show()"
      ],
      "execution_count": 0,
      "outputs": [
        {
          "output_type": "display_data",
          "data": {
            "image/png": "[encoded data removed]",
            "text/plain": [
              "<Figure size 720x360 with 2 Axes>"
            ]
          },
          "metadata": {
            "tags": []
          }
        }
      ]
    },
    {
      "cell_type": "code",
      "metadata": {
        "colab_type": "code",
        "id": "NXrosZGVv-fJ",
        "outputId": "8f8f21a2-afed-4e20-8205-8add26450149",
        "colab": {
          "base_uri": "https://localhost:8080/",
          "height": 118
        }
      },
      "source": [
        "rvwThr = 50\n",
        "spamfilter = coreData.groupby(\"ReviewProfileName\").count().sort_values(by=\"beerId\", ascending=False)\n",
        "spamfilter = spamfilter[spamfilter[\"beerId\"] > rvwThr]\n",
        "coreData = coreData[coreData[\"ReviewProfileName\"].isin(spamfilter.index)==True]\n",
        "print(\"Threshold:\",rvwThr)\n",
        "print(\"Number of BeerIds:\",coreData.groupby(\"beerId\").count().shape[0])\n",
        "print(\"Number of Reviews:\",coreData.shape[0])\n",
        "print(\"Number of Reviewers:\",len(coreData[\"ReviewProfileName\"].unique()))\n",
        "print(\"Average Number of Reviews per BeerId:\",int((coreData.groupby(\"beerId\").count().loc[:,\"ReviewProfileName\"]).mean()))\n",
        "print(\"Mean Rating:\",round(coreData.groupby(\"beerId\").mean().loc[:,\"ReviewOverall\"].mean(),2))"
      ],
      "execution_count": 0,
      "outputs": [
        {
          "output_type": "stream",
          "text": [
            "Threshold: 50\n",
            "Number of BeerIds: 1949\n",
            "Number of Reviews: 485978\n",
            "Number of Reviewers: 3403\n",
            "Average Number of Reviews per BeerId: 249\n",
            "Mean Rating: 3.81\n"
          ],
          "name": "stdout"
        }
      ]
    },
    {
      "cell_type": "markdown",
      "metadata": {
        "colab_type": "text",
        "id": "qevZaxTAgaXm"
      },
      "source": [
        "### Training - Test Split"
      ]
    },
    {
      "cell_type": "code",
      "metadata": {
        "colab_type": "code",
        "id": "bwnKbls-hQxa",
        "outputId": "3d29e2c0-2176-4a43-d66d-1b848fc3e5bc",
        "colab": {
          "base_uri": "https://localhost:8080/",
          "height": 177
        }
      },
      "source": [
        "print(coreData.shape)\n",
        "coreData.head(2)"
      ],
      "execution_count": 0,
      "outputs": [
        {
          "output_type": "stream",
          "text": [
            "(485978, 15)\n"
          ],
          "name": "stdout"
        },
        {
          "output_type": "execute_result",
          "data": {
            "text/html": [
              "<div>\n",
              "<style scoped>\n",
              "    .dataframe tbody tr th:only-of-type {\n",
              "        vertical-align: middle;\n",
              "    }\n",
              "\n",
              "    .dataframe tbody tr th {\n",
              "        vertical-align: top;\n",
              "    }\n",
              "\n",
              "    .dataframe thead th {\n",
              "        text-align: right;\n",
              "    }\n",
              "</style>\n",
              "<table border=\"1\" class=\"dataframe\">\n",
              "  <thead>\n",
              "    <tr style=\"text-align: right;\">\n",
              "      <th></th>\n",
              "      <th>beerName</th>\n",
              "      <th>beerId</th>\n",
              "      <th>brewerId</th>\n",
              "      <th>beerABV</th>\n",
              "      <th>beerStyle</th>\n",
              "      <th>ReviewAppearance</th>\n",
              "      <th>ReviewAroma</th>\n",
              "      <th>ReviewPalate</th>\n",
              "      <th>ReviewTaste</th>\n",
              "      <th>ReviewOverall</th>\n",
              "      <th>ReviewTime</th>\n",
              "      <th>ReviewProfileName</th>\n",
              "      <th>RTadjusted</th>\n",
              "      <th>RTyear</th>\n",
              "      <th>RTmonth</th>\n",
              "    </tr>\n",
              "  </thead>\n",
              "  <tbody>\n",
              "    <tr>\n",
              "      <th>330</th>\n",
              "      <td>Caldera IPA</td>\n",
              "      <td>10784</td>\n",
              "      <td>1075</td>\n",
              "      <td>6.10</td>\n",
              "      <td>American IPA</td>\n",
              "      <td>4.0</td>\n",
              "      <td>4.0</td>\n",
              "      <td>4.0</td>\n",
              "      <td>3.5</td>\n",
              "      <td>4.0</td>\n",
              "      <td>1297129212</td>\n",
              "      <td>Rutager</td>\n",
              "      <td>08/02/2011</td>\n",
              "      <td>2011</td>\n",
              "      <td>2</td>\n",
              "    </tr>\n",
              "    <tr>\n",
              "      <th>331</th>\n",
              "      <td>Caldera IPA</td>\n",
              "      <td>10784</td>\n",
              "      <td>1075</td>\n",
              "      <td>6.10</td>\n",
              "      <td>American IPA</td>\n",
              "      <td>4.0</td>\n",
              "      <td>4.0</td>\n",
              "      <td>4.0</td>\n",
              "      <td>4.0</td>\n",
              "      <td>4.5</td>\n",
              "      <td>1297105083</td>\n",
              "      <td>CHILLINDYLAN</td>\n",
              "      <td>07/02/2011</td>\n",
              "      <td>2011</td>\n",
              "      <td>2</td>\n",
              "    </tr>\n",
              "  </tbody>\n",
              "</table>\n",
              "</div>"
            ],
            "text/plain": [
              "        beerName  beerId  brewerId  ...  RTadjusted RTyear  RTmonth\n",
              "330  Caldera IPA   10784      1075  ...  08/02/2011   2011        2\n",
              "331  Caldera IPA   10784      1075  ...  07/02/2011   2011        2\n",
              "\n",
              "[2 rows x 15 columns]"
            ]
          },
          "metadata": {
            "tags": []
          },
          "execution_count": 18
        }
      ]
    },
    {
      "cell_type": "code",
      "metadata": {
        "colab_type": "code",
        "id": "CKNYdbsTg4CB",
        "colab": {}
      },
      "source": [
        "testData = coreData[coreData[\"RTyear\"] >= 2011]\n",
        "coreData = coreData[coreData[\"RTyear\"] < 2011]"
      ],
      "execution_count": 0,
      "outputs": []
    },
    {
      "cell_type": "markdown",
      "metadata": {
        "colab_type": "text",
        "id": "_7Mintkz_GqB"
      },
      "source": [
        "### Add Nodes in Bipartite Structure"
      ]
    },
    {
      "cell_type": "code",
      "metadata": {
        "colab_type": "code",
        "id": "TCtfIGFP_GqD",
        "colab": {}
      },
      "source": [
        "Bgraph = nx.Graph()\n",
        "Bgraph.add_nodes_from(list(coreData[\"beerId\"]), bipartite=0)\n",
        "Bgraph.add_nodes_from(list(coreData[\"ReviewProfileName\"]), bipartite=1)"
      ],
      "execution_count": 0,
      "outputs": []
    },
    {
      "cell_type": "markdown",
      "metadata": {
        "colab_type": "text",
        "id": "a9QyT5oS_GqJ"
      },
      "source": [
        "### Add Weighted Edges (weight = 1)"
      ]
    },
    {
      "cell_type": "code",
      "metadata": {
        "colab_type": "code",
        "id": "dFVaMNTi_GqO",
        "colab": {}
      },
      "source": [
        "Bedgelist=[]\n",
        "for rw in coreData.index:\n",
        "    temp=(coreData.loc[rw,\"beerId\"],coreData.loc[rw,\"ReviewProfileName\"], 1)\n",
        "    Bedgelist.append(temp)\n",
        "Bgraph.add_weighted_edges_from(Bedgelist)"
      ],
      "execution_count": 0,
      "outputs": []
    },
    {
      "cell_type": "code",
      "metadata": {
        "colab_type": "code",
        "id": "d6PJWS3z_GqT",
        "outputId": "fe6092f2-a206-45bc-ff2e-fe235ab367bf",
        "colab": {
          "base_uri": "https://localhost:8080/",
          "height": 202
        }
      },
      "source": [
        "count=0\n",
        "for n in Bgraph.edges(data=True):\n",
        "    if count <=10:\n",
        "        print(n)\n",
        "        count+=1\n",
        "    else:\n",
        "        break"
      ],
      "execution_count": 0,
      "outputs": [
        {
          "output_type": "stream",
          "text": [
            "(10784, 'lstokes', {'weight': 1})\n",
            "(10784, 'csiewert', {'weight': 1})\n",
            "(10784, 'beerphan', {'weight': 1})\n",
            "(10784, 'climax', {'weight': 1})\n",
            "(10784, 'AEK', {'weight': 1})\n",
            "(10784, 'BuckyFresh', {'weight': 1})\n",
            "(10784, 'SamuelJackson45', {'weight': 1})\n",
            "(10784, 'djbreezy', {'weight': 1})\n",
            "(10784, 'DeanMoriarty', {'weight': 1})\n",
            "(10784, 'Bfarr', {'weight': 1})\n",
            "(10784, 'Beerenauslese', {'weight': 1})\n"
          ],
          "name": "stdout"
        }
      ]
    },
    {
      "cell_type": "markdown",
      "metadata": {
        "colab_type": "text",
        "id": "-jRzHzdC_Gqd"
      },
      "source": [
        "### Generate Node Lists from Bpartite Graph"
      ]
    },
    {
      "cell_type": "code",
      "metadata": {
        "colab_type": "code",
        "id": "8jDIcuGM_Gqe",
        "colab": {}
      },
      "source": [
        "beer_nodes = {n for n, d in Bgraph.nodes(data=True) if d['bipartite']==0}\n",
        "user_nodes = {n for n, d in Bgraph.nodes(data=True) if d['bipartite']==1}"
      ],
      "execution_count": 0,
      "outputs": []
    },
    {
      "cell_type": "code",
      "metadata": {
        "colab_type": "code",
        "id": "lWkS_dzG_Gqt",
        "outputId": "9a0b7797-96e8-4bee-8dd7-5e1ac7283103",
        "colab": {
          "base_uri": "https://localhost:8080/",
          "height": 202
        }
      },
      "source": [
        "count=0\n",
        "for n,d in Bgraph.nodes(data=True):\n",
        "    if count <=10:\n",
        "        print(n,d)\n",
        "        count+=1\n",
        "    else:\n",
        "        break"
      ],
      "execution_count": 0,
      "outputs": [
        {
          "output_type": "stream",
          "text": [
            "10784 {'bipartite': 0}\n",
            "436 {'bipartite': 0}\n",
            "37518 {'bipartite': 0}\n",
            "57110 {'bipartite': 0}\n",
            "33624 {'bipartite': 0}\n",
            "52211 {'bipartite': 0}\n",
            "47695 {'bipartite': 0}\n",
            "33644 {'bipartite': 0}\n",
            "29687 {'bipartite': 0}\n",
            "966 {'bipartite': 0}\n",
            "962 {'bipartite': 0}\n"
          ],
          "name": "stdout"
        }
      ]
    },
    {
      "cell_type": "markdown",
      "metadata": {
        "colab_type": "text",
        "id": "uGzswNRJ_Gq0"
      },
      "source": [
        "### Generate the Projected Graph (users are projected on beers)"
      ]
    },
    {
      "cell_type": "markdown",
      "metadata": {
        "colab_type": "text",
        "id": "fiUTHjAr_Gq1"
      },
      "source": [
        "Standard weighted projected graph (weight=number of common reviewers)"
      ]
    },
    {
      "cell_type": "code",
      "metadata": {
        "colab_type": "code",
        "id": "Im-hxOzD_Gq2",
        "colab": {}
      },
      "source": [
        "Bprojected = bipartite.weighted_projected_graph(Bgraph,nodes=beer_nodes)"
      ],
      "execution_count": 0,
      "outputs": []
    },
    {
      "cell_type": "markdown",
      "metadata": {
        "colab_type": "text",
        "id": "4KBI-VOlSHzL"
      },
      "source": [
        "### Remove Edges with small weight"
      ]
    },
    {
      "cell_type": "code",
      "metadata": {
        "colab_type": "code",
        "id": "UEs5sRMD_Wg0",
        "colab": {}
      },
      "source": [
        "edge_list = list(Bprojected.edges())\n",
        "weight_list = []\n",
        "remove_edge = []\n",
        "for i in edge_list:\n",
        "  edge_weight = Bprojected.get_edge_data(*i)[\"weight\"]\n",
        "  weight_list.append(edge_weight)\n",
        "  if edge_weight < 50:\n",
        "    remove_edge.append(i)\n",
        "count_dic = Counter(weight_list)"
      ],
      "execution_count": 0,
      "outputs": []
    },
    {
      "cell_type": "code",
      "metadata": {
        "colab_type": "code",
        "id": "JSS-rWzwArfU",
        "outputId": "ba1ed420-0529-46b3-a4d6-0a79e915ac9a",
        "colab": {
          "base_uri": "https://localhost:8080/",
          "height": 353
        }
      },
      "source": [
        "plt.figure(figsize=(10,5))\n",
        "plt.subplot(121)\n",
        "plt.plot(count_dic.keys(),count_dic.values())\n",
        "plt.xlabel(\"Weight\")\n",
        "plt.ylabel(\"Number of Edges\")\n",
        "plt.title(\"Edge Weight Distribution\")\n",
        "\n",
        "plt.subplot(122)\n",
        "plt.loglog(count_dic.keys(),count_dic.values())\n",
        "plt.xlabel(\"Weight\")\n",
        "plt.ylabel(\"Number of Edges\")\n",
        "plt.title(\"Edge Weight Distribution\")\n",
        "plt.show()"
      ],
      "execution_count": 0,
      "outputs": [
        {
          "output_type": "display_data",
          "data": {
            "image/png": "[encoded data removed]",
            "text/plain": [
              "<Figure size 720x360 with 2 Axes>"
            ]
          },
          "metadata": {
            "tags": []
          }
        }
      ]
    },
    {
      "cell_type": "code",
      "metadata": {
        "colab_type": "code",
        "id": "FUUcP0QCEJYL",
        "colab": {}
      },
      "source": [
        "Bprojected2 = Bprojected.copy()\n",
        "Bprojected2.remove_edges_from(remove_edge)"
      ],
      "execution_count": 0,
      "outputs": []
    },
    {
      "cell_type": "markdown",
      "metadata": {
        "colab_type": "text",
        "id": "SPH7FtP3WSwL"
      },
      "source": [
        "### Normalization"
      ]
    },
    {
      "cell_type": "markdown",
      "metadata": {
        "colab_type": "text",
        "id": "YzEuCzuM_Gq6"
      },
      "source": [
        "#### Normalization Step1\n",
        "\n",
        "Weight of an edge divided to total number of reviews of nodes of the edge to adjust edge importances.\n",
        "\n",
        "Without first step of the normalization, weight of an edge between two nodes with high number of reviews may be larger than weight of an edge between two nodes with smaller number of reviews, but sharing most of their users."
      ]
    },
    {
      "cell_type": "code",
      "metadata": {
        "colab_type": "code",
        "id": "S1JIbEkz_Gq7",
        "colab": {}
      },
      "source": [
        "beertotalreviews = coreData.groupby(\"beerId\").count()\n",
        "beertotalreviews = pd.DataFrame(beertotalreviews[\"ReviewOverall\"])"
      ],
      "execution_count": 0,
      "outputs": []
    },
    {
      "cell_type": "code",
      "metadata": {
        "colab_type": "code",
        "id": "-MWaHY1k_Gq9",
        "colab": {}
      },
      "source": [
        "Bprojected_pairs= list(Bprojected2.edges(data=False))\n",
        "weightlist=[(x,y,z[\"weight\"]) for x,y,z in list(Bprojected2.edges(data=True))]"
      ],
      "execution_count": 0,
      "outputs": []
    },
    {
      "cell_type": "code",
      "metadata": {
        "colab_type": "code",
        "id": "26qOo80e_GrB",
        "colab": {}
      },
      "source": [
        "totwhtlist = [] #TOTAL REVIEWS OF TWO NODES\n",
        "for p in Bprojected_pairs:\n",
        "        p1 = p[0]\n",
        "        p2 = p[1]\n",
        "        totwht = beertotalreviews.loc[p1,\"ReviewOverall\"]+beertotalreviews.loc[p2,\"ReviewOverall\"]\n",
        "        totwhtlist.append((p1,p2,totwht))\n",
        "\n",
        "n1whtlist = []\n",
        "maxwht=0\n",
        "for i in range(len(weightlist)):\n",
        "    n1wht=weightlist[i][2]/totwhtlist[i][2] #NUMBER OF EDGED REVIEWS OF TWO NODES / TOTAL REVIEWS OF TWO NODES\n",
        "    n1whtlist.append((weightlist[i][0],weightlist[i][1],n1wht))\n",
        "    if n1wht>maxwht:\n",
        "        maxwht=n1wht"
      ],
      "execution_count": 0,
      "outputs": []
    },
    {
      "cell_type": "markdown",
      "metadata": {
        "colab_type": "text",
        "id": "WOYHCO4f_GrF"
      },
      "source": [
        "#### Normalization Step2\n",
        "\n",
        "All weights are divided to maximum weight of the network to make all edges comparable."
      ]
    },
    {
      "cell_type": "code",
      "metadata": {
        "colab_type": "code",
        "id": "RvLYntwN_GrF",
        "colab": {}
      },
      "source": [
        "n2whtlist=[]\n",
        "for item in n1whtlist:\n",
        "    n2wht=item[2]/maxwht #WEIGHT OF EDGE / MAXIMUM OF \"EDGE WEIGHTS IN GRAPH\"\n",
        "    n2whtlist.append((item[0],item[1],n2wht))   "
      ],
      "execution_count": 0,
      "outputs": []
    },
    {
      "cell_type": "markdown",
      "metadata": {
        "colab_type": "text",
        "id": "s34hhQsy_GrJ"
      },
      "source": [
        "#### Generate Normalized Projected Graph"
      ]
    },
    {
      "cell_type": "code",
      "metadata": {
        "colab_type": "code",
        "id": "Fb-0KJ94_GrJ",
        "colab": {}
      },
      "source": [
        "Bprojected_norm = Bprojected2.copy()\n",
        "Bprojected_norm.add_weighted_edges_from(n2whtlist)"
      ],
      "execution_count": 0,
      "outputs": []
    },
    {
      "cell_type": "code",
      "metadata": {
        "colab_type": "code",
        "id": "6IHhy8jM_GrN",
        "outputId": "b3aee4c1-e361-4d14-8cdb-9bae77b5dd2a",
        "colab": {
          "base_uri": "https://localhost:8080/",
          "height": 185
        }
      },
      "source": [
        "list(Bprojected_norm.edges(data=True))[:10]"
      ],
      "execution_count": 0,
      "outputs": [
        {
          "output_type": "execute_result",
          "data": {
            "text/plain": [
              "[(5, 6, {'weight': 0.4422337562475971}),\n",
              " (5, 7, {'weight': 0.41082802547770697}),\n",
              " (5, 30, {'weight': 0.14987325728770592}),\n",
              " (5, 33, {'weight': 0.17479674796747965}),\n",
              " (5, 34, {'weight': 0.16124561832558895}),\n",
              " (5, 39, {'weight': 0.13212881022615536}),\n",
              " (5, 61, {'weight': 0.21553884711779447}),\n",
              " (5, 63, {'weight': 0.2009993552546744}),\n",
              " (5, 65, {'weight': 0.19526039449411098}),\n",
              " (5, 73, {'weight': 0.19623731023563376})]"
            ]
          },
          "metadata": {
            "tags": []
          },
          "execution_count": 35
        }
      ]
    },
    {
      "cell_type": "markdown",
      "metadata": {
        "colab_type": "text",
        "id": "gBJw3UR8AuNQ"
      },
      "source": [
        "### Network Analysis"
      ]
    },
    {
      "cell_type": "code",
      "metadata": {
        "colab_type": "code",
        "id": "KT8Qq33IpauO",
        "outputId": "cf6cb6fd-7d8e-4b3d-8f85-0a06f80420d9",
        "colab": {
          "base_uri": "https://localhost:8080/",
          "height": 101
        }
      },
      "source": [
        "print(\"Number of Connected Components (excluding isolated nodes):\", nx.number_connected_components(Bprojected_norm) - nx.number_of_isolates(Bprojected_norm))\n",
        "print(\"Number of Isolated Nodes:\", nx.number_of_isolates(Bprojected_norm))\n",
        "largest_cc = max(nx.connected_component_subgraphs(Bprojected_norm), key=len)\n",
        "print(\"Number of Nodes in largest CC:\", largest_cc.number_of_nodes())\n",
        "print(\"Number of Edges in largest CC:\", largest_cc.number_of_edges())\n",
        "\n",
        "avg_degr = 2 * largest_cc.number_of_edges() / float(largest_cc.number_of_nodes())\n",
        "print(\"Average Degree:\", int(avg_degr))\n",
        "\n",
        "#print(\"Average Clustering Coef:\", nx.average_clustering(Bprojected_norm))\n",
        "#print(\"\\nDiameter of the network:\", nx.diameter(largest_cc))\n",
        "#print(\"Average Shortest Path Length CC:\", nx.average_shortest_path_length(largest_cc))"
      ],
      "execution_count": 0,
      "outputs": [
        {
          "output_type": "stream",
          "text": [
            "Number of Connected Components (excluding isolated nodes): 1\n",
            "Number of Isolated Nodes: 306\n",
            "Number of Nodes in largest CC: 1603\n",
            "Number of Edges in largest CC: 152295\n",
            "Average Degree: 190\n"
          ],
          "name": "stdout"
        }
      ]
    },
    {
      "cell_type": "code",
      "metadata": {
        "colab_type": "code",
        "id": "1RHYNiJF_tvE",
        "outputId": "251762e6-7427-40eb-e8a7-0ea39ac3e59b",
        "colab": {
          "base_uri": "https://localhost:8080/",
          "height": 34
        }
      },
      "source": [
        "#Average Clustering Coefficient\n",
        "print(\"Average Clustering Coef:\", nx.average_clustering(largest_cc))"
      ],
      "execution_count": 0,
      "outputs": [
        {
          "output_type": "stream",
          "text": [
            "Average Clustering Coef: 0.8721417676698456\n"
          ],
          "name": "stdout"
        }
      ]
    },
    {
      "cell_type": "code",
      "metadata": {
        "colab_type": "code",
        "id": "x_gdH9ON0T0H",
        "colab": {}
      },
      "source": [
        "#Average Shortest Path Length in Largest Connected Component\n",
        "#Commented out due to time complexity.\n",
        "#print(\"Average Shortest Path Length CC:\", nx.average_shortest_path_length(largest_cc, weight=\"weight\"))"
      ],
      "execution_count": 0,
      "outputs": []
    },
    {
      "cell_type": "code",
      "metadata": {
        "colab_type": "code",
        "id": "3InAr25_-p1N",
        "outputId": "74c5cdc9-9843-4694-f918-2426338217c7",
        "colab": {
          "base_uri": "https://localhost:8080/",
          "height": 578
        }
      },
      "source": [
        "#Degree Distribution Function\n",
        "def PlotDegreeDistribution(G, loglog=False):\n",
        "    degree = dict(G.degree())\n",
        "    values = sorted(list(degree.values()))\n",
        "    hist = [list(degree.values()).count(x) for x in values]\n",
        "    plt.figure()\n",
        "    plt.grid(True)\n",
        "    if not loglog:\n",
        "        plt.plot(values, hist, 'bv-')\n",
        "    else:\n",
        "        plt.loglog(values, hist, 'bv-')\n",
        "    plt.legend(['Degree - k'])\n",
        "    plt.xlabel('Degree')\n",
        "    plt.ylabel('Number of Nodes')\n",
        "    plt.title('Degree Distribution')\n",
        "    plt.show()\n",
        "    \n",
        "#Degree Distribution\n",
        "PlotDegreeDistribution(largest_cc, False)\n",
        "PlotDegreeDistribution(largest_cc, True)"
      ],
      "execution_count": 0,
      "outputs": [
        {
          "output_type": "display_data",
          "data": {
            "image/png": "[encoded data removed]",
            "text/plain": [
              "<Figure size 432x288 with 1 Axes>"
            ]
          },
          "metadata": {
            "tags": []
          }
        },
        {
          "output_type": "display_data",
          "data": {
            "image/png": "[encoded data removed]",
            "text/plain": [
              "<Figure size 432x288 with 1 Axes>"
            ]
          },
          "metadata": {
            "tags": []
          }
        }
      ]
    },
    {
      "cell_type": "code",
      "metadata": {
        "colab_type": "code",
        "id": "coI7Ng_iY0RP",
        "colab": {}
      },
      "source": [
        "#Graph Drawing\n",
        "#Commented out due to time complexity.\n",
        "#nx.draw(Bprojected_norm)\n",
        "#plt.show()"
      ],
      "execution_count": 0,
      "outputs": []
    },
    {
      "cell_type": "markdown",
      "metadata": {
        "colab_type": "text",
        "id": "GTGIbuROwiu8"
      },
      "source": [
        "### Centrality Metrics"
      ]
    },
    {
      "cell_type": "code",
      "metadata": {
        "colab_type": "code",
        "id": "3vjWiz24vuT6",
        "colab": {}
      },
      "source": [
        "#Degree Centrality\n",
        "sorted(list(largest_cc.degree(weight='weight')), key=lambda tup: tup[1], reverse = True)[:5]"
      ],
      "execution_count": 0,
      "outputs": []
    },
    {
      "cell_type": "code",
      "metadata": {
        "colab_type": "code",
        "id": "ISDsA5jPwn9X",
        "colab": {}
      },
      "source": [
        "#largest_cc_distance_dict = {(e1, e2): 1 / weight for e1, e2, weight in largest_cc.edges(data='weight')}\n",
        "#nx.set_edge_attributes(largest_cc, largest_cc_distance_dict, 'distance')"
      ],
      "execution_count": 0,
      "outputs": []
    },
    {
      "cell_type": "code",
      "metadata": {
        "colab_type": "code",
        "id": "FG4R5WfVxwra",
        "colab": {}
      },
      "source": [
        "#Closeness Centrality\n",
        "#Commented out due to time complexity.\n",
        "#clsCent = nx.closeness_centrality(largest_cc, distance=\"distance\")\n",
        "#clsCentSorted = sorted(clsCent.items(), key=lambda x: x[1], reverse=True)\n",
        "#clsCentSorted[:5]"
      ],
      "execution_count": 0,
      "outputs": []
    },
    {
      "cell_type": "markdown",
      "metadata": {
        "colab_type": "text",
        "id": "M8zPSn_u5ePk"
      },
      "source": [
        "### Community"
      ]
    },
    {
      "cell_type": "code",
      "metadata": {
        "colab_type": "code",
        "id": "xihkujzuJ4Yy",
        "colab": {}
      },
      "source": [
        "#Louvain Algorithm\n",
        "partition = community.best_partition(largest_cc)"
      ],
      "execution_count": 0,
      "outputs": []
    },
    {
      "cell_type": "code",
      "metadata": {
        "colab_type": "code",
        "id": "VS3SYTpnKApz",
        "colab": {}
      },
      "source": [
        "comm_dict = {}\n",
        "for k, v in partition.items():\n",
        "  if v in comm_dict.keys():\n",
        "    comm_dict[v].append(k)\n",
        "  else:\n",
        "     comm_dict[v] = [k]"
      ],
      "execution_count": 0,
      "outputs": []
    },
    {
      "cell_type": "code",
      "metadata": {
        "colab_type": "code",
        "id": "Eqza22MbLCf2",
        "outputId": "5e762711-4c05-4431-eb2c-e2ae316cb06c",
        "colab": {
          "base_uri": "https://localhost:8080/",
          "height": 34
        }
      },
      "source": [
        "#Total Number of Communities\n",
        "len(comm_dict)"
      ],
      "execution_count": 0,
      "outputs": [
        {
          "output_type": "execute_result",
          "data": {
            "text/plain": [
              "9"
            ]
          },
          "metadata": {
            "tags": []
          },
          "execution_count": 42
        }
      ]
    },
    {
      "cell_type": "code",
      "metadata": {
        "colab_type": "code",
        "id": "YpIU21-cLFW0",
        "outputId": "863890ef-3c8f-4fc4-89c1-4d9c5628c749",
        "colab": {
          "base_uri": "https://localhost:8080/",
          "height": 168
        }
      },
      "source": [
        "#Community Sizes\n",
        "for i in range(len(comm_dict.values())):\n",
        "  print(len(list(comm_dict.values())[i]))"
      ],
      "execution_count": 0,
      "outputs": [
        {
          "output_type": "stream",
          "text": [
            "405\n",
            "251\n",
            "737\n",
            "161\n",
            "35\n",
            "5\n",
            "3\n",
            "3\n",
            "3\n"
          ],
          "name": "stdout"
        }
      ]
    },
    {
      "cell_type": "markdown",
      "metadata": {
        "colab_type": "text",
        "id": "LXy1H-nKmGMZ"
      },
      "source": [
        "### Draw Network with Communities"
      ]
    },
    {
      "cell_type": "code",
      "metadata": {
        "colab_type": "code",
        "id": "483Py9nQ7sBp",
        "colab": {}
      },
      "source": [
        "#Commented out due to time complexity.\n",
        "#values = [partition.get(node) for node in largest_cc.nodes()]\n",
        "#plt.figure(figsize=(30,40))\n",
        "#nx.draw_spring(largest_cc, cmap = plt.get_cmap('jet'), node_color = values, node_size=30, with_labels=False)"
      ],
      "execution_count": 0,
      "outputs": []
    },
    {
      "cell_type": "markdown",
      "metadata": {
        "colab_type": "text",
        "id": "W99GnbF7mKQp"
      },
      "source": [
        "### Beer Similarity - node2vec"
      ]
    },
    {
      "cell_type": "code",
      "metadata": {
        "colab_type": "code",
        "id": "FdYbMo8EvUon",
        "colab": {}
      },
      "source": [
        "#Vectors of nodes calculated with node2vec algorithm\n",
        "node2vec = Node2Vec(largest_cc, dimensions=64, walk_length=30, num_walks=200, p=0.5, q=2)\n",
        "model = node2vec.fit(window=10, min_count=1, batch_words=4)"
      ],
      "execution_count": 0,
      "outputs": []
    },
    {
      "cell_type": "code",
      "metadata": {
        "colab_type": "code",
        "id": "3liMa80TSjht",
        "colab": {}
      },
      "source": [
        "vectors = model.wv.vectors"
      ],
      "execution_count": 0,
      "outputs": []
    },
    {
      "cell_type": "code",
      "metadata": {
        "colab_type": "code",
        "id": "fP3DcgYt5A2q",
        "colab": {}
      },
      "source": [
        "largest_cc_nodes = list(largest_cc.nodes())"
      ],
      "execution_count": 0,
      "outputs": []
    },
    {
      "cell_type": "markdown",
      "metadata": {
        "colab_type": "text",
        "id": "Unbrc3rt1Vx5"
      },
      "source": [
        "### Findind Target Audience and Evaluation"
      ]
    },
    {
      "cell_type": "code",
      "metadata": {
        "colab_type": "code",
        "id": "5_IGarvPh1TJ",
        "outputId": "63a218f7-b148-4db4-c4cd-1da5a74949de",
        "colab": {
          "base_uri": "https://localhost:8080/",
          "height": 34
        }
      },
      "source": [
        "#Filtering largest 4 communities\n",
        "pot_node_list = comm_dict[0] + comm_dict[1] + comm_dict[2] + comm_dict[3]\n",
        "len(pot_node_list)"
      ],
      "execution_count": 0,
      "outputs": [
        {
          "output_type": "execute_result",
          "data": {
            "text/plain": [
              "1554"
            ]
          },
          "metadata": {
            "tags": []
          },
          "execution_count": 50
        }
      ]
    },
    {
      "cell_type": "code",
      "metadata": {
        "colab_type": "code",
        "id": "Wv7jr3qSiPBq",
        "outputId": "fe10c19d-ea3b-4741-83d0-a5d55b49aa78",
        "colab": {
          "base_uri": "https://localhost:8080/",
          "height": 34
        }
      },
      "source": [
        "#List of all target beer brands\n",
        "target_node_list = []\n",
        "for i in pot_node_list:\n",
        "  core_num = coreData[coreData[\"beerId\"] == i].shape[0]\n",
        "  test_num = testData[testData[\"beerId\"] == i].shape[0]\n",
        "  if core_num >= 100 and test_num >=20:\n",
        "    target_node_list.append(i)\n",
        "\n",
        "len(target_node_list)"
      ],
      "execution_count": 0,
      "outputs": [
        {
          "output_type": "execute_result",
          "data": {
            "text/plain": [
              "943"
            ]
          },
          "metadata": {
            "tags": []
          },
          "execution_count": 54
        }
      ]
    },
    {
      "cell_type": "code",
      "metadata": {
        "colab_type": "code",
        "id": "_x4cnhMKjawk",
        "colab": {}
      },
      "source": [
        "#Calculating vector similarities with cosine similarity and finding most similar 50 nodes for each node\n",
        "#Calculating average ratings of all beer brands and average of ratings given by selected users as target audience for each node\n",
        "selected_avg_list = []\n",
        "real_avg_list = []\n",
        "total_rating_list = []\n",
        "selected_user_num = []\n",
        "real_user_num = []\n",
        "#Community filter for node\n",
        "for i in target_node_list:\n",
        "  comm_list = comm_dict[partition[i]]\n",
        "  idx1 = largest_cc_nodes.index(i)\n",
        "  \n",
        "  #Selecting most similar 50 nodes with cosine similarity in the community of target node.\n",
        "  result_list = []\n",
        "  for j in range(len(comm_list)):\n",
        "    if i != comm_list[j]:\n",
        "      idx2 = largest_cc_nodes.index(comm_list[j])\n",
        "      result = 1 - spatial.distance.cosine(vectors[idx1], vectors[idx2])\n",
        "      result_list.append((comm_list[j], result))\n",
        "\n",
        "  result_list.sort(key = operator.itemgetter(1), reverse = True)\n",
        "  sorted_list = result_list[:50]\n",
        "\n",
        "  final_node_list = []\n",
        "  for tpl in sorted_list:\n",
        "    final_node_list.append(tpl[0])\n",
        "    \n",
        "  #Filter top 20 users for each similar node (50 for each target node - calculated above)\n",
        "  #And filter users with at least 4.5 rating for similar node.\n",
        "  total_rating = []\n",
        "  total_user = []\n",
        "  for node in final_node_list:\n",
        "    coreData2 = coreData[coreData[\"beerId\"] == node].sort_values(\"ReviewOverall\", ascending = False)\n",
        "    coreData2 = coreData2[coreData2[\"ReviewOverall\"] >= 4.5].head(20)\n",
        "    user_list = list(coreData2[\"ReviewProfileName\"])\n",
        "    rating_list = testData[testData[\"beerId\"] == i][testData[\"ReviewProfileName\"].isin(user_list)][\"ReviewOverall\"]\n",
        "    rating_sum = sum(rating_list)\n",
        "    if rating_sum != 0:\n",
        "      num_user = len(rating_list)\n",
        "      total_rating.append(rating_sum)\n",
        "      total_user.append(num_user)\n",
        "    \n",
        "  #Calculating average ratings\n",
        "  if sum(total_user) != 0:\n",
        "    selected_avg = sum(total_rating) / sum(total_user)\n",
        "    real_avg = testData[testData[\"beerId\"] == i][\"ReviewOverall\"].mean()\n",
        "    selected_avg_list.append(selected_avg)\n",
        "    real_avg_list.append(real_avg)\n",
        "    total_rating_list.append(sum(total_rating))\n",
        "    selected_user_num.append(sum(total_user))\n",
        "    real_user_num.append(testData[testData[\"beerId\"] == i].shape[0])\n",
        "  "
      ],
      "execution_count": 0,
      "outputs": []
    },
    {
      "cell_type": "code",
      "metadata": {
        "colab_type": "code",
        "id": "PEU8D0vcfuBE",
        "colab": {}
      },
      "source": [
        "coreData[coreData[\"beerId\"] == node].sort_values(\"ReviewOverall\", ascending = False)[coreData[\"ReviewOverall\"] >= 4.5].head(20)[\"ReviewProfileName\"]"
      ],
      "execution_count": 0,
      "outputs": []
    },
    {
      "cell_type": "code",
      "metadata": {
        "colab_type": "code",
        "id": "wvsPll4cZgJM",
        "colab": {}
      },
      "source": [
        "total_sum = 0\n",
        "for i in range(len(selected_avg_list)):\n",
        "  total_sum += (selected_avg_list[i] * selected_user_num[i])\n",
        "  \n",
        "avg = total_sum / sum(selected_user_num)"
      ],
      "execution_count": 0,
      "outputs": []
    },
    {
      "cell_type": "code",
      "metadata": {
        "colab_type": "code",
        "id": "q498QX3SVRPf",
        "outputId": "3e829e5c-9543-4ed8-d38e-7a82f761c71a",
        "colab": {
          "base_uri": "https://localhost:8080/",
          "height": 34
        }
      },
      "source": [
        "#Average of ratings of target audiences for all nodes\n",
        "avg"
      ],
      "execution_count": 0,
      "outputs": [
        {
          "output_type": "execute_result",
          "data": {
            "text/plain": [
              "3.9751710826460784"
            ]
          },
          "metadata": {
            "tags": []
          },
          "execution_count": 104
        }
      ]
    },
    {
      "cell_type": "code",
      "metadata": {
        "colab_type": "code",
        "id": "gJWMtfj-RiTW",
        "outputId": "74a9b944-20a9-43f6-cbb8-2ad425c43d42",
        "colab": {
          "base_uri": "https://localhost:8080/",
          "height": 34
        }
      },
      "source": [
        "#Average rating of dataset excluding ratings given by users selected for target audience for a brand\n",
        "avg_rating_exc_list = []\n",
        "for i in range(len(real_avg_list)):\n",
        "  real_total_rating = real_avg_list[i] * real_user_num[i]\n",
        "  real_total_rating = real_total_rating - total_rating_list[i]\n",
        "  if (real_user_num[i] - selected_user_num[i]) != 0:\n",
        "    avg_rating_exc = real_total_rating / (real_user_num[i] - selected_user_num[i])\n",
        "    avg_rating_exc_list.append(avg_rating_exc)\n",
        "  else:\n",
        "    avg_rating_exc_list.append(np.nan)\n",
        "    \n",
        "np.nanmean(avg_rating_exc_list)"
      ],
      "execution_count": 0,
      "outputs": [
        {
          "output_type": "execute_result",
          "data": {
            "text/plain": [
              "3.7834909881611725"
            ]
          },
          "metadata": {
            "tags": []
          },
          "execution_count": 105
        }
      ]
    },
    {
      "cell_type": "code",
      "metadata": {
        "colab_type": "code",
        "id": "aU2tvVRVNV46",
        "outputId": "2d0ed929-6755-48c8-ea32-94a9d3326075",
        "colab": {
          "base_uri": "https://localhost:8080/",
          "height": 34
        }
      },
      "source": [
        "#Percentage increase in average rating\n",
        "sum(selected_user_num) / sum(real_user_num)"
      ],
      "execution_count": 0,
      "outputs": [
        {
          "output_type": "execute_result",
          "data": {
            "text/plain": [
              "0.16486345753297849"
            ]
          },
          "metadata": {
            "tags": []
          },
          "execution_count": 106
        }
      ]
    },
    {
      "cell_type": "code",
      "metadata": {
        "colab_type": "code",
        "id": "80wGndR7t9-0",
        "outputId": "2e0c9e6a-d41c-4e4f-d1d5-e06a96835fd1",
        "colab": {
          "base_uri": "https://localhost:8080/",
          "height": 34
        }
      },
      "source": [
        "#Number of brands of which target audience has higher avg rating than overall rating (out of 943)\n",
        "count = 0\n",
        "for i in range(len(avg_rating_exc_list)):\n",
        "  if avg_rating_exc_list[i] != np.nan:\n",
        "    if avg_rating_exc_list[i] < selected_avg_list[i]:\n",
        "      count += 1\n",
        "      \n",
        "count"
      ],
      "execution_count": 0,
      "outputs": [
        {
          "output_type": "execute_result",
          "data": {
            "text/plain": [
              "606"
            ]
          },
          "metadata": {
            "tags": []
          },
          "execution_count": 107
        }
      ]
    },
    {
      "cell_type": "code",
      "metadata": {
        "colab_type": "code",
        "id": "0vwvOWlQrk-r",
        "outputId": "931ba8f1-a0c2-4848-f8b5-08fc40ce2c60",
        "colab": {
          "base_uri": "https://localhost:8080/",
          "height": 34
        }
      },
      "source": [
        "#Beer brand examples:\n",
        "#Heineken Lager Beer, Budweiser Budvar, Leffe Blond, Corona Extra, Duvel\n",
        "sample_list = [246, 6715, 2137, 232, 695]\n",
        "\n",
        "sample_dict = dict.fromkeys(sample_list, [])\n",
        "sample_dict"
      ],
      "execution_count": 0,
      "outputs": [
        {
          "output_type": "execute_result",
          "data": {
            "text/plain": [
              "{232: [], 246: [], 695: [], 2137: [], 6715: []}"
            ]
          },
          "metadata": {
            "tags": []
          },
          "execution_count": 130
        }
      ]
    },
    {
      "cell_type": "code",
      "metadata": {
        "colab_type": "code",
        "id": "imqCq-aDoseA",
        "colab": {}
      },
      "source": [
        "#Selecting target audiences for 5 brands\n",
        "for i in sample_list:\n",
        "  comm_list = comm_dict[partition[i]]\n",
        "  idx1 = largest_cc_nodes.index(i)\n",
        "  \n",
        "  result_list = []\n",
        "  for j in range(len(comm_list)):\n",
        "    if i != comm_list[j]:\n",
        "      idx2 = largest_cc_nodes.index(comm_list[j])\n",
        "      result = 1 - spatial.distance.cosine(vectors[idx1], vectors[idx2])\n",
        "      result_list.append((comm_list[j], result))\n",
        "\n",
        "  result_list.sort(key = operator.itemgetter(1), reverse = True)\n",
        "  sorted_list = result_list[:50]\n",
        "\n",
        "  final_node_list = []\n",
        "  for tpl in sorted_list:\n",
        "    final_node_list.append(tpl[0])\n",
        "\n",
        "  total_rating = []\n",
        "  total_user_list2 = []\n",
        "  for node in final_node_list:\n",
        "    coreData2 = coreData[coreData[\"beerId\"] == node].sort_values(\"ReviewOverall\", ascending = False)\n",
        "    coreData2 = coreData2[coreData2[\"ReviewOverall\"] >= 4.5].head(20)\n",
        "    user_list = list(coreData2[\"ReviewProfileName\"])\n",
        "    user_list2 = list(testData[testData[\"beerId\"] == i][\"ReviewProfileName\"])\n",
        "    user_list_final = []\n",
        "    for user in user_list:\n",
        "      if user not in user_list2:\n",
        "        user_list_final.append(user)\n",
        "    total_user_list2 = total_user_list2 + user_list_final\n",
        "  \n",
        "  sample_dict[i] = sample_dict[i] + total_user_list2 \n",
        "  "
      ],
      "execution_count": 0,
      "outputs": []
    },
    {
      "cell_type": "code",
      "metadata": {
        "colab_type": "code",
        "id": "BFEL0HYmtXA1",
        "outputId": "033185b3-9dd7-44f5-e10b-c8a45b527de8",
        "colab": {
          "base_uri": "https://localhost:8080/",
          "height": 101
        }
      },
      "source": [
        "#Target Audience Sizes for 5 brands\n",
        "for i in  sample_list:\n",
        "  print(len(np.unique(sample_dict[i])))"
      ],
      "execution_count": 0,
      "outputs": [
        {
          "output_type": "stream",
          "text": [
            "598\n",
            "514\n",
            "484\n",
            "587\n",
            "666\n"
          ],
          "name": "stdout"
        }
      ]
    },
    {
      "cell_type": "code",
      "metadata": {
        "colab_type": "code",
        "id": "UX2JotJMzTyH",
        "colab": {}
      },
      "source": [
        "#Usernames of Target Audience of Heineken Lager Beer (commented out due to high number of user recommendation)\n",
        "#sample_dict[232]"
      ],
      "execution_count": 0,
      "outputs": []
    }
  ]
}